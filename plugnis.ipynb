{
 "cells": [
  {
   "cell_type": "code",
   "execution_count": 1,
   "metadata": {},
   "outputs": [
    {
     "name": "stdout",
     "output_type": "stream",
     "text": [
      "Collecting flask-mail\n",
      "  Downloading flask_mail-0.10.0-py3-none-any.whl.metadata (2.1 kB)\n",
      "Requirement already satisfied: flask in c:\\users\\abliebah\\appdata\\local\\programs\\python\\python311\\lib\\site-packages (from flask-mail) (2.3.2)\n",
      "Requirement already satisfied: blinker in c:\\users\\abliebah\\appdata\\local\\programs\\python\\python311\\lib\\site-packages (from flask-mail) (1.6.2)\n",
      "Requirement already satisfied: Werkzeug>=2.3.3 in c:\\users\\abliebah\\appdata\\local\\programs\\python\\python311\\lib\\site-packages (from flask->flask-mail) (2.3.6)\n",
      "Requirement already satisfied: Jinja2>=3.1.2 in c:\\users\\abliebah\\appdata\\local\\programs\\python\\python311\\lib\\site-packages (from flask->flask-mail) (3.1.2)\n",
      "Requirement already satisfied: itsdangerous>=2.1.2 in c:\\users\\abliebah\\appdata\\local\\programs\\python\\python311\\lib\\site-packages (from flask->flask-mail) (2.1.2)\n",
      "Requirement already satisfied: click>=8.1.3 in c:\\users\\abliebah\\appdata\\local\\programs\\python\\python311\\lib\\site-packages (from flask->flask-mail) (8.1.5)\n",
      "Requirement already satisfied: colorama in c:\\users\\abliebah\\appdata\\roaming\\python\\python311\\site-packages (from click>=8.1.3->flask->flask-mail) (0.4.6)\n",
      "Requirement already satisfied: MarkupSafe>=2.0 in c:\\users\\abliebah\\appdata\\local\\programs\\python\\python311\\lib\\site-packages (from Jinja2>=3.1.2->flask->flask-mail) (2.1.2)\n",
      "Downloading flask_mail-0.10.0-py3-none-any.whl (8.5 kB)\n",
      "Installing collected packages: flask-mail\n",
      "Successfully installed flask-mail-0.10.0\n",
      "Note: you may need to restart the kernel to use updated packages.\n"
     ]
    },
    {
     "name": "stderr",
     "output_type": "stream",
     "text": [
      "\n",
      "[notice] A new release of pip is available: 24.0 -> 25.0.1\n",
      "[notice] To update, run: python.exe -m pip install --upgrade pip\n"
     ]
    }
   ],
   "source": [
    "pip install flask-mail"
   ]
  }
 ],
 "metadata": {
  "kernelspec": {
   "display_name": "Python 3",
   "language": "python",
   "name": "python3"
  },
  "language_info": {
   "codemirror_mode": {
    "name": "ipython",
    "version": 3
   },
   "file_extension": ".py",
   "mimetype": "text/x-python",
   "name": "python",
   "nbconvert_exporter": "python",
   "pygments_lexer": "ipython3",
   "version": "3.11.5"
  }
 },
 "nbformat": 4,
 "nbformat_minor": 2
}
